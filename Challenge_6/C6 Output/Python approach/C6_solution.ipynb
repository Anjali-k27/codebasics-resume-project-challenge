{
 "cells": [
  {
   "cell_type": "markdown",
   "id": "291ae737",
   "metadata": {},
   "source": [
    "### Importing libraries"
   ]
  },
  {
   "cell_type": "code",
   "execution_count": 1,
   "id": "85ad8e01",
   "metadata": {},
   "outputs": [],
   "source": [
    "import pandas as pd\n",
    "import numpy as np\n",
    "import os"
   ]
  },
  {
   "cell_type": "markdown",
   "id": "4732a0d5",
   "metadata": {},
   "source": [
    "### Reading data"
   ]
  },
  {
   "cell_type": "code",
   "execution_count": 2,
   "id": "1d900a54",
   "metadata": {},
   "outputs": [],
   "source": [
    "cities_df = pd.read_csv(r\"C:\\Users\\ap422\\OneDrive\\Documents\\CodeBasics_ResumeProject\\Challenge_6\\C6 Input to participants\\Dataset\\dim_cities.csv\")\n",
    "respondents_df = pd.read_csv(r\"C:\\Users\\ap422\\OneDrive\\Documents\\CodeBasics_ResumeProject\\Challenge_6\\C6 Input to participants\\Dataset\\dim_repondents.csv\")\n",
    "survey_responses_df = pd.read_csv(r\"C:\\Users\\ap422\\OneDrive\\Documents\\CodeBasics_ResumeProject\\Challenge_6\\C6 Input to participants\\Dataset\\fact_survey_responses.csv\")"
   ]
  },
  {
   "cell_type": "markdown",
   "id": "3b892326",
   "metadata": {},
   "source": [
    "### Dry run over data"
   ]
  },
  {
   "cell_type": "markdown",
   "id": "8d915186",
   "metadata": {},
   "source": [
    "#### 1. Shape of data"
   ]
  },
  {
   "cell_type": "markdown",
   "id": "dfeae2a6",
   "metadata": {},
   "source": [
    "* __Method 1__"
   ]
  },
  {
   "cell_type": "code",
   "execution_count": 3,
   "id": "96d52d4a",
   "metadata": {},
   "outputs": [
    {
     "data": {
      "text/plain": [
       "(10, 3)"
      ]
     },
     "execution_count": 3,
     "metadata": {},
     "output_type": "execute_result"
    }
   ],
   "source": [
    "cities_df.shape"
   ]
  },
  {
   "cell_type": "code",
   "execution_count": 4,
   "id": "64dc1af8",
   "metadata": {},
   "outputs": [
    {
     "data": {
      "text/plain": [
       "(10000, 5)"
      ]
     },
     "execution_count": 4,
     "metadata": {},
     "output_type": "execute_result"
    }
   ],
   "source": [
    "respondents_df.shape"
   ]
  },
  {
   "cell_type": "code",
   "execution_count": 5,
   "id": "04633b1b",
   "metadata": {},
   "outputs": [
    {
     "data": {
      "text/plain": [
       "(10000, 23)"
      ]
     },
     "execution_count": 5,
     "metadata": {},
     "output_type": "execute_result"
    }
   ],
   "source": [
    "survey_responses_df.shape"
   ]
  },
  {
   "cell_type": "markdown",
   "id": "b2263097",
   "metadata": {},
   "source": [
    "* __Method 2__"
   ]
  },
  {
   "cell_type": "markdown",
   "id": "5bf8bcec",
   "metadata": {},
   "source": [
    "> zip() function is used to iterate over both the DataFrames in the list l and the corresponding names in the names list simultaneously."
   ]
  },
  {
   "cell_type": "code",
   "execution_count": 6,
   "id": "289a0989",
   "metadata": {},
   "outputs": [
    {
     "name": "stdout",
     "output_type": "stream",
     "text": [
      "DataFrame Name: cities_df\n",
      "Shape: (10, 3)\n",
      "\n",
      "DataFrame Name: respondents_df\n",
      "Shape: (10000, 5)\n",
      "\n",
      "DataFrame Name: survey_responses_df\n",
      "Shape: (10000, 23)\n",
      "\n"
     ]
    }
   ],
   "source": [
    "l = [cities_df, respondents_df, survey_responses_df]\n",
    "names = [\"cities_df\", \"respondents_df\", \"survey_responses_df\"]\n",
    "\n",
    "for df, name in zip(l, names):\n",
    "    print(f\"DataFrame Name: {name}\")\n",
    "    print(f\"Shape: {df.shape}\")\n",
    "    print(\"\")"
   ]
  },
  {
   "cell_type": "markdown",
   "id": "3aef93c5",
   "metadata": {},
   "source": [
    "#### 2. Null values??"
   ]
  },
  {
   "cell_type": "markdown",
   "id": "d46f176c",
   "metadata": {},
   "source": [
    "* __Method 1__"
   ]
  },
  {
   "cell_type": "code",
   "execution_count": 7,
   "id": "f10f634b",
   "metadata": {},
   "outputs": [
    {
     "data": {
      "text/plain": [
       "City_ID    0\n",
       "City       0\n",
       "Tier       0\n",
       "dtype: int64"
      ]
     },
     "execution_count": 7,
     "metadata": {},
     "output_type": "execute_result"
    }
   ],
   "source": [
    "cities_df.isnull().sum()"
   ]
  },
  {
   "cell_type": "code",
   "execution_count": 8,
   "id": "7a6df874",
   "metadata": {},
   "outputs": [
    {
     "data": {
      "text/plain": [
       "Respondent_ID    0\n",
       "Name             0\n",
       "Age              0\n",
       "Gender           0\n",
       "City_ID          0\n",
       "dtype: int64"
      ]
     },
     "execution_count": 8,
     "metadata": {},
     "output_type": "execute_result"
    }
   ],
   "source": [
    "respondents_df.isnull().sum()"
   ]
  },
  {
   "cell_type": "code",
   "execution_count": 9,
   "id": "ca1d36a3",
   "metadata": {},
   "outputs": [
    {
     "data": {
      "text/plain": [
       "Response_ID                       0\n",
       "Respondent_ID                     0\n",
       "Consume_frequency                 0\n",
       "Consume_time                      0\n",
       "Consume_reason                    0\n",
       "Heard_before                      0\n",
       "Brand_perception                  0\n",
       "General_perception                0\n",
       "Tried_before                      0\n",
       "Taste_experience                  0\n",
       "Reasons_preventing_trying         0\n",
       "Current_brands                    0\n",
       "Reasons_for_choosing_brands       0\n",
       "Improvements_desired              0\n",
       "Ingredients_expected              0\n",
       "Health_concerns                   0\n",
       "Interest_in_natural_or_organic    0\n",
       "Marketing_channels                0\n",
       "Packaging_preference              0\n",
       "Limited_edition_packaging         0\n",
       "Price_range                       0\n",
       "Purchase_location                 0\n",
       "Typical_consumption_situations    0\n",
       "dtype: int64"
      ]
     },
     "execution_count": 9,
     "metadata": {},
     "output_type": "execute_result"
    }
   ],
   "source": [
    "survey_responses_df.isnull().sum()"
   ]
  },
  {
   "cell_type": "markdown",
   "id": "4d3e8f81",
   "metadata": {},
   "source": [
    "* __Method 2__"
   ]
  },
  {
   "cell_type": "code",
   "execution_count": 10,
   "id": "fb6fabdb",
   "metadata": {},
   "outputs": [
    {
     "name": "stdout",
     "output_type": "stream",
     "text": [
      "DataFrame Name: cities_df\n",
      "City_ID    0\n",
      "City       0\n",
      "Tier       0\n",
      "dtype: int64\n",
      "\n",
      "DataFrame Name: respondents_df\n",
      "Respondent_ID    0\n",
      "Name             0\n",
      "Age              0\n",
      "Gender           0\n",
      "City_ID          0\n",
      "dtype: int64\n",
      "\n",
      "DataFrame Name: survey_responses_df\n",
      "Response_ID                       0\n",
      "Respondent_ID                     0\n",
      "Consume_frequency                 0\n",
      "Consume_time                      0\n",
      "Consume_reason                    0\n",
      "Heard_before                      0\n",
      "Brand_perception                  0\n",
      "General_perception                0\n",
      "Tried_before                      0\n",
      "Taste_experience                  0\n",
      "Reasons_preventing_trying         0\n",
      "Current_brands                    0\n",
      "Reasons_for_choosing_brands       0\n",
      "Improvements_desired              0\n",
      "Ingredients_expected              0\n",
      "Health_concerns                   0\n",
      "Interest_in_natural_or_organic    0\n",
      "Marketing_channels                0\n",
      "Packaging_preference              0\n",
      "Limited_edition_packaging         0\n",
      "Price_range                       0\n",
      "Purchase_location                 0\n",
      "Typical_consumption_situations    0\n",
      "dtype: int64\n",
      "\n"
     ]
    }
   ],
   "source": [
    "l = [cities_df, respondents_df, survey_responses_df]\n",
    "names = [\"cities_df\", \"respondents_df\", \"survey_responses_df\"]\n",
    "\n",
    "for df, name in zip(l, names):\n",
    "    print(f\"DataFrame Name: {name}\")\n",
    "    print(f\"{df.isnull().sum()}\")\n",
    "    print(\"\")"
   ]
  },
  {
   "cell_type": "markdown",
   "id": "7f9110af",
   "metadata": {},
   "source": [
    "> __Observation:__ No Null values present"
   ]
  },
  {
   "cell_type": "markdown",
   "id": "99fa776c",
   "metadata": {},
   "source": [
    "#### 3. Data types"
   ]
  },
  {
   "cell_type": "markdown",
   "id": "ec24267d",
   "metadata": {},
   "source": [
    "* __Method 1__"
   ]
  },
  {
   "cell_type": "code",
   "execution_count": 11,
   "id": "80097fa9",
   "metadata": {},
   "outputs": [
    {
     "data": {
      "text/plain": [
       "City_ID    object\n",
       "City       object\n",
       "Tier       object\n",
       "dtype: object"
      ]
     },
     "execution_count": 11,
     "metadata": {},
     "output_type": "execute_result"
    }
   ],
   "source": [
    "cities_df.dtypes"
   ]
  },
  {
   "cell_type": "code",
   "execution_count": 12,
   "id": "bdea0e1e",
   "metadata": {},
   "outputs": [
    {
     "data": {
      "text/plain": [
       "Respondent_ID     int64\n",
       "Name             object\n",
       "Age              object\n",
       "Gender           object\n",
       "City_ID          object\n",
       "dtype: object"
      ]
     },
     "execution_count": 12,
     "metadata": {},
     "output_type": "execute_result"
    }
   ],
   "source": [
    "respondents_df.dtypes"
   ]
  },
  {
   "cell_type": "code",
   "execution_count": 13,
   "id": "79ea1ac2",
   "metadata": {},
   "outputs": [
    {
     "data": {
      "text/plain": [
       "Response_ID                        int64\n",
       "Respondent_ID                      int64\n",
       "Consume_frequency                 object\n",
       "Consume_time                      object\n",
       "Consume_reason                    object\n",
       "Heard_before                      object\n",
       "Brand_perception                  object\n",
       "General_perception                object\n",
       "Tried_before                      object\n",
       "Taste_experience                   int64\n",
       "Reasons_preventing_trying         object\n",
       "Current_brands                    object\n",
       "Reasons_for_choosing_brands       object\n",
       "Improvements_desired              object\n",
       "Ingredients_expected              object\n",
       "Health_concerns                   object\n",
       "Interest_in_natural_or_organic    object\n",
       "Marketing_channels                object\n",
       "Packaging_preference              object\n",
       "Limited_edition_packaging         object\n",
       "Price_range                       object\n",
       "Purchase_location                 object\n",
       "Typical_consumption_situations    object\n",
       "dtype: object"
      ]
     },
     "execution_count": 13,
     "metadata": {},
     "output_type": "execute_result"
    }
   ],
   "source": [
    "survey_responses_df.dtypes"
   ]
  },
  {
   "cell_type": "markdown",
   "id": "8869fcd9",
   "metadata": {},
   "source": [
    "* __Method 2__"
   ]
  },
  {
   "cell_type": "code",
   "execution_count": 14,
   "id": "01071993",
   "metadata": {},
   "outputs": [
    {
     "name": "stdout",
     "output_type": "stream",
     "text": [
      "DataFrame Name: cities_df\n",
      "City_ID    object\n",
      "City       object\n",
      "Tier       object\n",
      "dtype: object\n",
      "\n",
      "DataFrame Name: respondents_df\n",
      "Respondent_ID     int64\n",
      "Name             object\n",
      "Age              object\n",
      "Gender           object\n",
      "City_ID          object\n",
      "dtype: object\n",
      "\n",
      "DataFrame Name: survey_responses_df\n",
      "Response_ID                        int64\n",
      "Respondent_ID                      int64\n",
      "Consume_frequency                 object\n",
      "Consume_time                      object\n",
      "Consume_reason                    object\n",
      "Heard_before                      object\n",
      "Brand_perception                  object\n",
      "General_perception                object\n",
      "Tried_before                      object\n",
      "Taste_experience                   int64\n",
      "Reasons_preventing_trying         object\n",
      "Current_brands                    object\n",
      "Reasons_for_choosing_brands       object\n",
      "Improvements_desired              object\n",
      "Ingredients_expected              object\n",
      "Health_concerns                   object\n",
      "Interest_in_natural_or_organic    object\n",
      "Marketing_channels                object\n",
      "Packaging_preference              object\n",
      "Limited_edition_packaging         object\n",
      "Price_range                       object\n",
      "Purchase_location                 object\n",
      "Typical_consumption_situations    object\n",
      "dtype: object\n",
      "\n"
     ]
    }
   ],
   "source": [
    "l = [cities_df, respondents_df, survey_responses_df]\n",
    "names = [\"cities_df\", \"respondents_df\", \"survey_responses_df\"]\n",
    "\n",
    "for df, name in zip(l, names):\n",
    "    print(f\"DataFrame Name: {name}\")\n",
    "    print(f\"{df.dtypes}\")\n",
    "    print(\"\")"
   ]
  },
  {
   "cell_type": "markdown",
   "id": "07cc8c89",
   "metadata": {},
   "source": [
    "#### 4. Statistical summary"
   ]
  },
  {
   "cell_type": "markdown",
   "id": "b98be28c",
   "metadata": {},
   "source": [
    "* __Method 1__"
   ]
  },
  {
   "cell_type": "code",
   "execution_count": 15,
   "id": "71aa07c0",
   "metadata": {},
   "outputs": [
    {
     "data": {
      "text/html": [
       "<div>\n",
       "<style scoped>\n",
       "    .dataframe tbody tr th:only-of-type {\n",
       "        vertical-align: middle;\n",
       "    }\n",
       "\n",
       "    .dataframe tbody tr th {\n",
       "        vertical-align: top;\n",
       "    }\n",
       "\n",
       "    .dataframe thead th {\n",
       "        text-align: right;\n",
       "    }\n",
       "</style>\n",
       "<table border=\"1\" class=\"dataframe\">\n",
       "  <thead>\n",
       "    <tr style=\"text-align: right;\">\n",
       "      <th></th>\n",
       "      <th>City_ID</th>\n",
       "      <th>City</th>\n",
       "      <th>Tier</th>\n",
       "    </tr>\n",
       "  </thead>\n",
       "  <tbody>\n",
       "    <tr>\n",
       "      <th>count</th>\n",
       "      <td>10</td>\n",
       "      <td>10</td>\n",
       "      <td>10</td>\n",
       "    </tr>\n",
       "    <tr>\n",
       "      <th>unique</th>\n",
       "      <td>10</td>\n",
       "      <td>10</td>\n",
       "      <td>2</td>\n",
       "    </tr>\n",
       "    <tr>\n",
       "      <th>top</th>\n",
       "      <td>CT111</td>\n",
       "      <td>Delhi</td>\n",
       "      <td>Tier 1</td>\n",
       "    </tr>\n",
       "    <tr>\n",
       "      <th>freq</th>\n",
       "      <td>1</td>\n",
       "      <td>1</td>\n",
       "      <td>5</td>\n",
       "    </tr>\n",
       "  </tbody>\n",
       "</table>\n",
       "</div>"
      ],
      "text/plain": [
       "       City_ID   City    Tier\n",
       "count       10     10      10\n",
       "unique      10     10       2\n",
       "top      CT111  Delhi  Tier 1\n",
       "freq         1      1       5"
      ]
     },
     "execution_count": 15,
     "metadata": {},
     "output_type": "execute_result"
    }
   ],
   "source": [
    "cities_df.describe()"
   ]
  },
  {
   "cell_type": "code",
   "execution_count": 16,
   "id": "40fcf748",
   "metadata": {},
   "outputs": [
    {
     "data": {
      "text/html": [
       "<div>\n",
       "<style scoped>\n",
       "    .dataframe tbody tr th:only-of-type {\n",
       "        vertical-align: middle;\n",
       "    }\n",
       "\n",
       "    .dataframe tbody tr th {\n",
       "        vertical-align: top;\n",
       "    }\n",
       "\n",
       "    .dataframe thead th {\n",
       "        text-align: right;\n",
       "    }\n",
       "</style>\n",
       "<table border=\"1\" class=\"dataframe\">\n",
       "  <thead>\n",
       "    <tr style=\"text-align: right;\">\n",
       "      <th></th>\n",
       "      <th>Respondent_ID</th>\n",
       "    </tr>\n",
       "  </thead>\n",
       "  <tbody>\n",
       "    <tr>\n",
       "      <th>count</th>\n",
       "      <td>10000.00000</td>\n",
       "    </tr>\n",
       "    <tr>\n",
       "      <th>mean</th>\n",
       "      <td>125030.50000</td>\n",
       "    </tr>\n",
       "    <tr>\n",
       "      <th>std</th>\n",
       "      <td>2886.89568</td>\n",
       "    </tr>\n",
       "    <tr>\n",
       "      <th>min</th>\n",
       "      <td>120031.00000</td>\n",
       "    </tr>\n",
       "    <tr>\n",
       "      <th>25%</th>\n",
       "      <td>122530.75000</td>\n",
       "    </tr>\n",
       "    <tr>\n",
       "      <th>50%</th>\n",
       "      <td>125030.50000</td>\n",
       "    </tr>\n",
       "    <tr>\n",
       "      <th>75%</th>\n",
       "      <td>127530.25000</td>\n",
       "    </tr>\n",
       "    <tr>\n",
       "      <th>max</th>\n",
       "      <td>130030.00000</td>\n",
       "    </tr>\n",
       "  </tbody>\n",
       "</table>\n",
       "</div>"
      ],
      "text/plain": [
       "       Respondent_ID\n",
       "count    10000.00000\n",
       "mean    125030.50000\n",
       "std       2886.89568\n",
       "min     120031.00000\n",
       "25%     122530.75000\n",
       "50%     125030.50000\n",
       "75%     127530.25000\n",
       "max     130030.00000"
      ]
     },
     "execution_count": 16,
     "metadata": {},
     "output_type": "execute_result"
    }
   ],
   "source": [
    "respondents_df.describe()"
   ]
  },
  {
   "cell_type": "code",
   "execution_count": 17,
   "id": "7cd2c686",
   "metadata": {},
   "outputs": [
    {
     "data": {
      "text/html": [
       "<div>\n",
       "<style scoped>\n",
       "    .dataframe tbody tr th:only-of-type {\n",
       "        vertical-align: middle;\n",
       "    }\n",
       "\n",
       "    .dataframe tbody tr th {\n",
       "        vertical-align: top;\n",
       "    }\n",
       "\n",
       "    .dataframe thead th {\n",
       "        text-align: right;\n",
       "    }\n",
       "</style>\n",
       "<table border=\"1\" class=\"dataframe\">\n",
       "  <thead>\n",
       "    <tr style=\"text-align: right;\">\n",
       "      <th></th>\n",
       "      <th>Response_ID</th>\n",
       "      <th>Respondent_ID</th>\n",
       "      <th>Taste_experience</th>\n",
       "    </tr>\n",
       "  </thead>\n",
       "  <tbody>\n",
       "    <tr>\n",
       "      <th>count</th>\n",
       "      <td>10000.00000</td>\n",
       "      <td>10000.00000</td>\n",
       "      <td>10000.000000</td>\n",
       "    </tr>\n",
       "    <tr>\n",
       "      <th>mean</th>\n",
       "      <td>108000.50000</td>\n",
       "      <td>125030.50000</td>\n",
       "      <td>3.281900</td>\n",
       "    </tr>\n",
       "    <tr>\n",
       "      <th>std</th>\n",
       "      <td>2886.89568</td>\n",
       "      <td>2886.89568</td>\n",
       "      <td>1.239752</td>\n",
       "    </tr>\n",
       "    <tr>\n",
       "      <th>min</th>\n",
       "      <td>103001.00000</td>\n",
       "      <td>120031.00000</td>\n",
       "      <td>1.000000</td>\n",
       "    </tr>\n",
       "    <tr>\n",
       "      <th>25%</th>\n",
       "      <td>105500.75000</td>\n",
       "      <td>122530.75000</td>\n",
       "      <td>2.000000</td>\n",
       "    </tr>\n",
       "    <tr>\n",
       "      <th>50%</th>\n",
       "      <td>108000.50000</td>\n",
       "      <td>125030.50000</td>\n",
       "      <td>3.000000</td>\n",
       "    </tr>\n",
       "    <tr>\n",
       "      <th>75%</th>\n",
       "      <td>110500.25000</td>\n",
       "      <td>127530.25000</td>\n",
       "      <td>4.000000</td>\n",
       "    </tr>\n",
       "    <tr>\n",
       "      <th>max</th>\n",
       "      <td>113000.00000</td>\n",
       "      <td>130030.00000</td>\n",
       "      <td>5.000000</td>\n",
       "    </tr>\n",
       "  </tbody>\n",
       "</table>\n",
       "</div>"
      ],
      "text/plain": [
       "        Response_ID  Respondent_ID  Taste_experience\n",
       "count   10000.00000    10000.00000      10000.000000\n",
       "mean   108000.50000   125030.50000          3.281900\n",
       "std      2886.89568     2886.89568          1.239752\n",
       "min    103001.00000   120031.00000          1.000000\n",
       "25%    105500.75000   122530.75000          2.000000\n",
       "50%    108000.50000   125030.50000          3.000000\n",
       "75%    110500.25000   127530.25000          4.000000\n",
       "max    113000.00000   130030.00000          5.000000"
      ]
     },
     "execution_count": 17,
     "metadata": {},
     "output_type": "execute_result"
    }
   ],
   "source": [
    "survey_responses_df.describe()"
   ]
  },
  {
   "cell_type": "markdown",
   "id": "3e4cf3f9",
   "metadata": {},
   "source": [
    "* __Method 2__"
   ]
  },
  {
   "cell_type": "code",
   "execution_count": 18,
   "id": "d26d2c90",
   "metadata": {},
   "outputs": [
    {
     "name": "stdout",
     "output_type": "stream",
     "text": [
      "DataFrame Name: cities_df\n",
      "       City_ID   City    Tier\n",
      "count       10     10      10\n",
      "unique      10     10       2\n",
      "top      CT111  Delhi  Tier 1\n",
      "freq         1      1       5\n",
      "\n",
      "DataFrame Name: respondents_df\n",
      "       Respondent_ID\n",
      "count    10000.00000\n",
      "mean    125030.50000\n",
      "std       2886.89568\n",
      "min     120031.00000\n",
      "25%     122530.75000\n",
      "50%     125030.50000\n",
      "75%     127530.25000\n",
      "max     130030.00000\n",
      "\n",
      "DataFrame Name: survey_responses_df\n",
      "        Response_ID  Respondent_ID  Taste_experience\n",
      "count   10000.00000    10000.00000      10000.000000\n",
      "mean   108000.50000   125030.50000          3.281900\n",
      "std      2886.89568     2886.89568          1.239752\n",
      "min    103001.00000   120031.00000          1.000000\n",
      "25%    105500.75000   122530.75000          2.000000\n",
      "50%    108000.50000   125030.50000          3.000000\n",
      "75%    110500.25000   127530.25000          4.000000\n",
      "max    113000.00000   130030.00000          5.000000\n",
      "\n"
     ]
    }
   ],
   "source": [
    "l = [cities_df, respondents_df, survey_responses_df]\n",
    "names = [\"cities_df\", \"respondents_df\", \"survey_responses_df\"]\n",
    "\n",
    "for df, name in zip(l, names):\n",
    "    print(f\"DataFrame Name: {name}\")\n",
    "    print(f\"{df.describe()}\")\n",
    "    print(\"\")"
   ]
  },
  {
   "cell_type": "markdown",
   "id": "500dfa49",
   "metadata": {},
   "source": [
    "> You can do more things like looking at data dstribution using: <br>\n",
    "* __Numerical variables__: historgram, density plot or box plot <br>\n",
    "* __Categorical variables__: Bar plots, count plots "
   ]
  },
  {
   "cell_type": "markdown",
   "id": "8bd6d03c",
   "metadata": {},
   "source": [
    "## Primary Insights"
   ]
  },
  {
   "cell_type": "markdown",
   "id": "d9cb4da7",
   "metadata": {},
   "source": [
    "> __1. Demographic Insights__"
   ]
  },
  {
   "cell_type": "markdown",
   "id": "974c7d12",
   "metadata": {},
   "source": [
    "__a. Who prefers energy drink more? (male/female/non-binary?)__"
   ]
  },
  {
   "cell_type": "code",
   "execution_count": 19,
   "id": "c7456a07",
   "metadata": {},
   "outputs": [
    {
     "data": {
      "text/html": [
       "<div>\n",
       "<style scoped>\n",
       "    .dataframe tbody tr th:only-of-type {\n",
       "        vertical-align: middle;\n",
       "    }\n",
       "\n",
       "    .dataframe tbody tr th {\n",
       "        vertical-align: top;\n",
       "    }\n",
       "\n",
       "    .dataframe thead th {\n",
       "        text-align: right;\n",
       "    }\n",
       "</style>\n",
       "<table border=\"1\" class=\"dataframe\">\n",
       "  <thead>\n",
       "    <tr style=\"text-align: right;\">\n",
       "      <th></th>\n",
       "      <th></th>\n",
       "      <th>Respondent_ID</th>\n",
       "    </tr>\n",
       "    <tr>\n",
       "      <th>Gender</th>\n",
       "      <th>Consume_frequency</th>\n",
       "      <th></th>\n",
       "    </tr>\n",
       "  </thead>\n",
       "  <tbody>\n",
       "    <tr>\n",
       "      <th>Male</th>\n",
       "      <th>Daily</th>\n",
       "      <td>817</td>\n",
       "    </tr>\n",
       "    <tr>\n",
       "      <th>Female</th>\n",
       "      <th>Daily</th>\n",
       "      <td>466</td>\n",
       "    </tr>\n",
       "    <tr>\n",
       "      <th>Non-binary</th>\n",
       "      <th>Daily</th>\n",
       "      <td>63</td>\n",
       "    </tr>\n",
       "  </tbody>\n",
       "</table>\n",
       "</div>"
      ],
      "text/plain": [
       "                              Respondent_ID\n",
       "Gender     Consume_frequency               \n",
       "Male       Daily                        817\n",
       "Female     Daily                        466\n",
       "Non-binary Daily                         63"
      ]
     },
     "execution_count": 19,
     "metadata": {},
     "output_type": "execute_result"
    }
   ],
   "source": [
    "respondents_df_selected = respondents_df[['Respondent_ID','Gender']]\n",
    "\n",
    "survey_responses_df_new = survey_responses_df[survey_responses_df['Consume_frequency']=='Daily']\n",
    "survey_responses_df_selected = survey_responses_df_new[['Respondent_ID','Consume_frequency']]\n",
    "\n",
    "joined_df = pd.merge(respondents_df_selected, survey_responses_df_selected, on='Respondent_ID', how='inner')\n",
    "joined_df.groupby(by=['Gender','Consume_frequency']).count().sort_values(by='Respondent_ID',ascending=False)"
   ]
  },
  {
   "cell_type": "markdown",
   "id": "f5b37212",
   "metadata": {},
   "source": [
    "<div style=\"background-color: green; color: white; padding: 10px;\">\n",
    "    <b> Answer is:</b> Male\n",
    "</div>"
   ]
  },
  {
   "cell_type": "markdown",
   "id": "ec5adde6",
   "metadata": {},
   "source": [
    "__b. Which age group prefers energy drinks more?__"
   ]
  },
  {
   "cell_type": "code",
   "execution_count": 20,
   "id": "5d4503ff",
   "metadata": {},
   "outputs": [
    {
     "data": {
      "text/html": [
       "<div>\n",
       "<style scoped>\n",
       "    .dataframe tbody tr th:only-of-type {\n",
       "        vertical-align: middle;\n",
       "    }\n",
       "\n",
       "    .dataframe tbody tr th {\n",
       "        vertical-align: top;\n",
       "    }\n",
       "\n",
       "    .dataframe thead th {\n",
       "        text-align: right;\n",
       "    }\n",
       "</style>\n",
       "<table border=\"1\" class=\"dataframe\">\n",
       "  <thead>\n",
       "    <tr style=\"text-align: right;\">\n",
       "      <th></th>\n",
       "      <th></th>\n",
       "      <th>Respondent_ID</th>\n",
       "    </tr>\n",
       "    <tr>\n",
       "      <th>Age</th>\n",
       "      <th>Consume_frequency</th>\n",
       "      <th></th>\n",
       "    </tr>\n",
       "  </thead>\n",
       "  <tbody>\n",
       "    <tr>\n",
       "      <th>19-30</th>\n",
       "      <th>Daily</th>\n",
       "      <td>736</td>\n",
       "    </tr>\n",
       "    <tr>\n",
       "      <th>31-45</th>\n",
       "      <th>Daily</th>\n",
       "      <td>348</td>\n",
       "    </tr>\n",
       "    <tr>\n",
       "      <th>15-18</th>\n",
       "      <th>Daily</th>\n",
       "      <td>196</td>\n",
       "    </tr>\n",
       "    <tr>\n",
       "      <th>46-65</th>\n",
       "      <th>Daily</th>\n",
       "      <td>42</td>\n",
       "    </tr>\n",
       "    <tr>\n",
       "      <th>65+</th>\n",
       "      <th>Daily</th>\n",
       "      <td>24</td>\n",
       "    </tr>\n",
       "  </tbody>\n",
       "</table>\n",
       "</div>"
      ],
      "text/plain": [
       "                         Respondent_ID\n",
       "Age   Consume_frequency               \n",
       "19-30 Daily                        736\n",
       "31-45 Daily                        348\n",
       "15-18 Daily                        196\n",
       "46-65 Daily                         42\n",
       "65+   Daily                         24"
      ]
     },
     "execution_count": 20,
     "metadata": {},
     "output_type": "execute_result"
    }
   ],
   "source": [
    "respondents_df_selected = respondents_df[['Respondent_ID','Age']]\n",
    "\n",
    "survey_responses_df_new = survey_responses_df[survey_responses_df['Consume_frequency']=='Daily']\n",
    "survey_responses_df_selected = survey_responses_df_new[['Respondent_ID','Consume_frequency']]\n",
    "\n",
    "joined_df = pd.merge(respondents_df_selected, survey_responses_df_selected, on='Respondent_ID', how='inner')\n",
    "joined_df.groupby(by=['Age','Consume_frequency']).count().sort_values(by='Respondent_ID',ascending=False)"
   ]
  },
  {
   "cell_type": "markdown",
   "id": "3ff7e714",
   "metadata": {},
   "source": [
    "<div style=\"background-color: green; color: white; padding: 10px;\">\n",
    "    <b> Answer is:</b> 19-30\n",
    "</div>"
   ]
  },
  {
   "cell_type": "markdown",
   "id": "92f0af07",
   "metadata": {},
   "source": [
    "__c. Which type of marketing reaches the most Youth (15-30)?__"
   ]
  },
  {
   "cell_type": "code",
   "execution_count": 21,
   "id": "68c87c26",
   "metadata": {},
   "outputs": [
    {
     "data": {
      "text/html": [
       "<div>\n",
       "<style scoped>\n",
       "    .dataframe tbody tr th:only-of-type {\n",
       "        vertical-align: middle;\n",
       "    }\n",
       "\n",
       "    .dataframe tbody tr th {\n",
       "        vertical-align: top;\n",
       "    }\n",
       "\n",
       "    .dataframe thead th {\n",
       "        text-align: right;\n",
       "    }\n",
       "</style>\n",
       "<table border=\"1\" class=\"dataframe\">\n",
       "  <thead>\n",
       "    <tr style=\"text-align: right;\">\n",
       "      <th></th>\n",
       "      <th></th>\n",
       "      <th>Respondent_ID</th>\n",
       "    </tr>\n",
       "    <tr>\n",
       "      <th>Age</th>\n",
       "      <th>Marketing_channels</th>\n",
       "      <th></th>\n",
       "    </tr>\n",
       "  </thead>\n",
       "  <tbody>\n",
       "    <tr>\n",
       "      <th rowspan=\"2\" valign=\"top\">19-30</th>\n",
       "      <th>Online ads</th>\n",
       "      <td>2666</td>\n",
       "    </tr>\n",
       "    <tr>\n",
       "      <th>TV commercials</th>\n",
       "      <td>1290</td>\n",
       "    </tr>\n",
       "    <tr>\n",
       "      <th>15-18</th>\n",
       "      <th>Online ads</th>\n",
       "      <td>707</td>\n",
       "    </tr>\n",
       "    <tr>\n",
       "      <th rowspan=\"2\" valign=\"top\">19-30</th>\n",
       "      <th>Other</th>\n",
       "      <td>608</td>\n",
       "    </tr>\n",
       "    <tr>\n",
       "      <th>Outdoor billboards</th>\n",
       "      <td>585</td>\n",
       "    </tr>\n",
       "    <tr>\n",
       "      <th>15-18</th>\n",
       "      <th>TV commercials</th>\n",
       "      <td>495</td>\n",
       "    </tr>\n",
       "    <tr>\n",
       "      <th>19-30</th>\n",
       "      <th>Print media</th>\n",
       "      <td>371</td>\n",
       "    </tr>\n",
       "    <tr>\n",
       "      <th rowspan=\"3\" valign=\"top\">15-18</th>\n",
       "      <th>Outdoor billboards</th>\n",
       "      <td>117</td>\n",
       "    </tr>\n",
       "    <tr>\n",
       "      <th>Other</th>\n",
       "      <td>94</td>\n",
       "    </tr>\n",
       "    <tr>\n",
       "      <th>Print media</th>\n",
       "      <td>75</td>\n",
       "    </tr>\n",
       "  </tbody>\n",
       "</table>\n",
       "</div>"
      ],
      "text/plain": [
       "                          Respondent_ID\n",
       "Age   Marketing_channels               \n",
       "19-30 Online ads                   2666\n",
       "      TV commercials               1290\n",
       "15-18 Online ads                    707\n",
       "19-30 Other                         608\n",
       "      Outdoor billboards            585\n",
       "15-18 TV commercials                495\n",
       "19-30 Print media                   371\n",
       "15-18 Outdoor billboards            117\n",
       "      Other                          94\n",
       "      Print media                    75"
      ]
     },
     "execution_count": 21,
     "metadata": {},
     "output_type": "execute_result"
    }
   ],
   "source": [
    "survey_responses_df_selected = survey_responses_df[['Respondent_ID','Marketing_channels']]\n",
    "\n",
    "respondents_df_new = respondents_df[(respondents_df['Age']=='15-18') | (respondents_df['Age']=='19-30')]\n",
    "respondents_df_selected = respondents_df_new[['Respondent_ID','Age']]\n",
    "\n",
    "joined_df = pd.merge(respondents_df_selected, survey_responses_df_selected, on='Respondent_ID', how='inner')\n",
    "joined_df.groupby(by=['Age','Marketing_channels']).count().sort_values(by='Respondent_ID',ascending=False)"
   ]
  },
  {
   "cell_type": "markdown",
   "id": "f071d743",
   "metadata": {},
   "source": [
    "<div style=\"background-color: green; color: white; padding: 10px;\">\n",
    "    <b> Answer is:</b> Online ads\n",
    "</div>"
   ]
  },
  {
   "cell_type": "markdown",
   "id": "3d964a59",
   "metadata": {},
   "source": [
    "> __2. Consumer preferences__"
   ]
  },
  {
   "cell_type": "markdown",
   "id": "7fc4b1d6",
   "metadata": {},
   "source": [
    "__a. What are the preferred ingredients of energy drinks among respondents?__"
   ]
  },
  {
   "cell_type": "code",
   "execution_count": 24,
   "id": "a9e50924",
   "metadata": {},
   "outputs": [
    {
     "data": {
      "text/html": [
       "<div>\n",
       "<style scoped>\n",
       "    .dataframe tbody tr th:only-of-type {\n",
       "        vertical-align: middle;\n",
       "    }\n",
       "\n",
       "    .dataframe tbody tr th {\n",
       "        vertical-align: top;\n",
       "    }\n",
       "\n",
       "    .dataframe thead th {\n",
       "        text-align: right;\n",
       "    }\n",
       "</style>\n",
       "<table border=\"1\" class=\"dataframe\">\n",
       "  <thead>\n",
       "    <tr style=\"text-align: right;\">\n",
       "      <th></th>\n",
       "      <th>Respondent_ID</th>\n",
       "    </tr>\n",
       "    <tr>\n",
       "      <th>Ingredients_expected</th>\n",
       "      <th></th>\n",
       "    </tr>\n",
       "  </thead>\n",
       "  <tbody>\n",
       "    <tr>\n",
       "      <th>Caffeine</th>\n",
       "      <td>3896</td>\n",
       "    </tr>\n",
       "    <tr>\n",
       "      <th>Vitamins</th>\n",
       "      <td>2534</td>\n",
       "    </tr>\n",
       "    <tr>\n",
       "      <th>Sugar</th>\n",
       "      <td>2017</td>\n",
       "    </tr>\n",
       "    <tr>\n",
       "      <th>Guarana</th>\n",
       "      <td>1553</td>\n",
       "    </tr>\n",
       "  </tbody>\n",
       "</table>\n",
       "</div>"
      ],
      "text/plain": [
       "                      Respondent_ID\n",
       "Ingredients_expected               \n",
       "Caffeine                       3896\n",
       "Vitamins                       2534\n",
       "Sugar                          2017\n",
       "Guarana                        1553"
      ]
     },
     "execution_count": 24,
     "metadata": {},
     "output_type": "execute_result"
    }
   ],
   "source": [
    "survey_responses_df_selected = survey_responses_df[['Respondent_ID','Ingredients_expected']]\n",
    "\n",
    "respondents_df_selected = respondents_df[['Respondent_ID']]\n",
    "\n",
    "joined_df = pd.merge(respondents_df_selected, survey_responses_df_selected, on='Respondent_ID', how='inner')\n",
    "joined_df.groupby(by=['Ingredients_expected']).count().sort_values(by='Respondent_ID',ascending=False)"
   ]
  },
  {
   "cell_type": "markdown",
   "id": "3697fbca",
   "metadata": {},
   "source": [
    "<div style=\"background-color: green; color: white; padding: 10px;\">\n",
    "    <b> Answer is:</b> Caffeine\n",
    "</div>"
   ]
  },
  {
   "cell_type": "markdown",
   "id": "6c59de76",
   "metadata": {},
   "source": [
    "__b. What packaging preferences do respondents have for energy drinks?__"
   ]
  },
  {
   "cell_type": "code",
   "execution_count": 25,
   "id": "5710c790",
   "metadata": {},
   "outputs": [
    {
     "data": {
      "text/html": [
       "<div>\n",
       "<style scoped>\n",
       "    .dataframe tbody tr th:only-of-type {\n",
       "        vertical-align: middle;\n",
       "    }\n",
       "\n",
       "    .dataframe tbody tr th {\n",
       "        vertical-align: top;\n",
       "    }\n",
       "\n",
       "    .dataframe thead th {\n",
       "        text-align: right;\n",
       "    }\n",
       "</style>\n",
       "<table border=\"1\" class=\"dataframe\">\n",
       "  <thead>\n",
       "    <tr style=\"text-align: right;\">\n",
       "      <th></th>\n",
       "      <th>Respondent_ID</th>\n",
       "    </tr>\n",
       "    <tr>\n",
       "      <th>Packaging_preference</th>\n",
       "      <th></th>\n",
       "    </tr>\n",
       "  </thead>\n",
       "  <tbody>\n",
       "    <tr>\n",
       "      <th>Compact and portable cans</th>\n",
       "      <td>3984</td>\n",
       "    </tr>\n",
       "    <tr>\n",
       "      <th>Innovative bottle design</th>\n",
       "      <td>3047</td>\n",
       "    </tr>\n",
       "    <tr>\n",
       "      <th>Collectible packaging</th>\n",
       "      <td>1501</td>\n",
       "    </tr>\n",
       "    <tr>\n",
       "      <th>Eco-friendly design</th>\n",
       "      <td>983</td>\n",
       "    </tr>\n",
       "    <tr>\n",
       "      <th>Other</th>\n",
       "      <td>485</td>\n",
       "    </tr>\n",
       "  </tbody>\n",
       "</table>\n",
       "</div>"
      ],
      "text/plain": [
       "                           Respondent_ID\n",
       "Packaging_preference                    \n",
       "Compact and portable cans           3984\n",
       "Innovative bottle design            3047\n",
       "Collectible packaging               1501\n",
       "Eco-friendly design                  983\n",
       "Other                                485"
      ]
     },
     "execution_count": 25,
     "metadata": {},
     "output_type": "execute_result"
    }
   ],
   "source": [
    "survey_responses_df_selected = survey_responses_df[['Respondent_ID','Packaging_preference']]\n",
    "\n",
    "respondents_df_selected = respondents_df[['Respondent_ID']]\n",
    "\n",
    "joined_df = pd.merge(respondents_df_selected, survey_responses_df_selected, on='Respondent_ID', how='inner')\n",
    "joined_df.groupby(by=['Packaging_preference']).count().sort_values(by='Respondent_ID',ascending=False)"
   ]
  },
  {
   "cell_type": "markdown",
   "id": "eedf11e1",
   "metadata": {},
   "source": [
    "<div style=\"background-color: green; color: white; padding: 10px;\">\n",
    "    <b> Answer is:</b> Compact and portable cans\n",
    "</div>"
   ]
  },
  {
   "cell_type": "markdown",
   "id": "1d1d1982",
   "metadata": {},
   "source": [
    "> __3. Competition Analysis__"
   ]
  },
  {
   "cell_type": "markdown",
   "id": "0473ef39",
   "metadata": {},
   "source": [
    "__a. Who are the current market leaders?__"
   ]
  },
  {
   "cell_type": "code",
   "execution_count": 27,
   "id": "4402517e",
   "metadata": {},
   "outputs": [
    {
     "data": {
      "text/html": [
       "<div>\n",
       "<style scoped>\n",
       "    .dataframe tbody tr th:only-of-type {\n",
       "        vertical-align: middle;\n",
       "    }\n",
       "\n",
       "    .dataframe tbody tr th {\n",
       "        vertical-align: top;\n",
       "    }\n",
       "\n",
       "    .dataframe thead th {\n",
       "        text-align: right;\n",
       "    }\n",
       "</style>\n",
       "<table border=\"1\" class=\"dataframe\">\n",
       "  <thead>\n",
       "    <tr style=\"text-align: right;\">\n",
       "      <th></th>\n",
       "      <th>Respondent_ID</th>\n",
       "    </tr>\n",
       "    <tr>\n",
       "      <th>Current_brands</th>\n",
       "      <th></th>\n",
       "    </tr>\n",
       "  </thead>\n",
       "  <tbody>\n",
       "    <tr>\n",
       "      <th>Cola-Coka</th>\n",
       "      <td>2538</td>\n",
       "    </tr>\n",
       "    <tr>\n",
       "      <th>Bepsi</th>\n",
       "      <td>2112</td>\n",
       "    </tr>\n",
       "    <tr>\n",
       "      <th>Gangster</th>\n",
       "      <td>1854</td>\n",
       "    </tr>\n",
       "    <tr>\n",
       "      <th>Blue Bull</th>\n",
       "      <td>1058</td>\n",
       "    </tr>\n",
       "    <tr>\n",
       "      <th>CodeX</th>\n",
       "      <td>980</td>\n",
       "    </tr>\n",
       "    <tr>\n",
       "      <th>Sky 9</th>\n",
       "      <td>979</td>\n",
       "    </tr>\n",
       "    <tr>\n",
       "      <th>Others</th>\n",
       "      <td>479</td>\n",
       "    </tr>\n",
       "  </tbody>\n",
       "</table>\n",
       "</div>"
      ],
      "text/plain": [
       "                Respondent_ID\n",
       "Current_brands               \n",
       "Cola-Coka                2538\n",
       "Bepsi                    2112\n",
       "Gangster                 1854\n",
       "Blue Bull                1058\n",
       "CodeX                     980\n",
       "Sky 9                     979\n",
       "Others                    479"
      ]
     },
     "execution_count": 27,
     "metadata": {},
     "output_type": "execute_result"
    }
   ],
   "source": [
    "survey_responses_df_selected = survey_responses_df[['Respondent_ID','Current_brands']]\n",
    "\n",
    "respondents_df_selected = respondents_df[['Respondent_ID']]\n",
    "\n",
    "joined_df = pd.merge(respondents_df_selected, survey_responses_df_selected, on='Respondent_ID', how='inner')\n",
    "joined_df.groupby(by=['Current_brands']).count().sort_values(by='Respondent_ID',ascending=False)"
   ]
  },
  {
   "cell_type": "markdown",
   "id": "bdc28e52",
   "metadata": {},
   "source": [
    "<div style=\"background-color: green; color: white; padding: 10px;\">\n",
    "    <b> Answer is:</b> Cola-Coka\n",
    "</div>"
   ]
  },
  {
   "cell_type": "markdown",
   "id": "771421c3",
   "metadata": {},
   "source": [
    "__b. What are the primary reasons consumers prefer those brands over ours?__"
   ]
  },
  {
   "cell_type": "code",
   "execution_count": 28,
   "id": "8c774b09",
   "metadata": {},
   "outputs": [
    {
     "data": {
      "text/html": [
       "<div>\n",
       "<style scoped>\n",
       "    .dataframe tbody tr th:only-of-type {\n",
       "        vertical-align: middle;\n",
       "    }\n",
       "\n",
       "    .dataframe tbody tr th {\n",
       "        vertical-align: top;\n",
       "    }\n",
       "\n",
       "    .dataframe thead th {\n",
       "        text-align: right;\n",
       "    }\n",
       "</style>\n",
       "<table border=\"1\" class=\"dataframe\">\n",
       "  <thead>\n",
       "    <tr style=\"text-align: right;\">\n",
       "      <th></th>\n",
       "      <th>Respondent_ID</th>\n",
       "    </tr>\n",
       "    <tr>\n",
       "      <th>Reasons_for_choosing_brands</th>\n",
       "      <th></th>\n",
       "    </tr>\n",
       "  </thead>\n",
       "  <tbody>\n",
       "    <tr>\n",
       "      <th>Brand reputation</th>\n",
       "      <td>2652</td>\n",
       "    </tr>\n",
       "    <tr>\n",
       "      <th>Taste/flavor preference</th>\n",
       "      <td>2011</td>\n",
       "    </tr>\n",
       "    <tr>\n",
       "      <th>Availability</th>\n",
       "      <td>1910</td>\n",
       "    </tr>\n",
       "    <tr>\n",
       "      <th>Effectiveness</th>\n",
       "      <td>1748</td>\n",
       "    </tr>\n",
       "    <tr>\n",
       "      <th>Other</th>\n",
       "      <td>1679</td>\n",
       "    </tr>\n",
       "  </tbody>\n",
       "</table>\n",
       "</div>"
      ],
      "text/plain": [
       "                             Respondent_ID\n",
       "Reasons_for_choosing_brands               \n",
       "Brand reputation                      2652\n",
       "Taste/flavor preference               2011\n",
       "Availability                          1910\n",
       "Effectiveness                         1748\n",
       "Other                                 1679"
      ]
     },
     "execution_count": 28,
     "metadata": {},
     "output_type": "execute_result"
    }
   ],
   "source": [
    "survey_responses_df_selected = survey_responses_df[['Respondent_ID','Reasons_for_choosing_brands']]\n",
    "\n",
    "respondents_df_selected = respondents_df[['Respondent_ID']]\n",
    "\n",
    "joined_df = pd.merge(respondents_df_selected, survey_responses_df_selected, on='Respondent_ID', how='inner')\n",
    "joined_df.groupby(by=['Reasons_for_choosing_brands']).count().sort_values(by='Respondent_ID',ascending=False)"
   ]
  },
  {
   "cell_type": "markdown",
   "id": "86cee656",
   "metadata": {},
   "source": [
    "<div style=\"background-color: green; color: white; padding: 10px;\">\n",
    "    <b> Answer is:</b> Brand reputation \n",
    "</div>"
   ]
  },
  {
   "cell_type": "markdown",
   "id": "ee313492",
   "metadata": {},
   "source": [
    "> __4. Marketing Channels and Brand Awareness__"
   ]
  },
  {
   "cell_type": "markdown",
   "id": "a708ebc6",
   "metadata": {},
   "source": [
    "__a. Which marketing channel can be used to reach more customers?__"
   ]
  },
  {
   "cell_type": "code",
   "execution_count": 29,
   "id": "85e124c0",
   "metadata": {},
   "outputs": [
    {
     "data": {
      "text/html": [
       "<div>\n",
       "<style scoped>\n",
       "    .dataframe tbody tr th:only-of-type {\n",
       "        vertical-align: middle;\n",
       "    }\n",
       "\n",
       "    .dataframe tbody tr th {\n",
       "        vertical-align: top;\n",
       "    }\n",
       "\n",
       "    .dataframe thead th {\n",
       "        text-align: right;\n",
       "    }\n",
       "</style>\n",
       "<table border=\"1\" class=\"dataframe\">\n",
       "  <thead>\n",
       "    <tr style=\"text-align: right;\">\n",
       "      <th></th>\n",
       "      <th>Respondent_ID</th>\n",
       "    </tr>\n",
       "    <tr>\n",
       "      <th>Marketing_channels</th>\n",
       "      <th></th>\n",
       "    </tr>\n",
       "  </thead>\n",
       "  <tbody>\n",
       "    <tr>\n",
       "      <th>Online ads</th>\n",
       "      <td>4020</td>\n",
       "    </tr>\n",
       "    <tr>\n",
       "      <th>TV commercials</th>\n",
       "      <td>2688</td>\n",
       "    </tr>\n",
       "    <tr>\n",
       "      <th>Outdoor billboards</th>\n",
       "      <td>1226</td>\n",
       "    </tr>\n",
       "    <tr>\n",
       "      <th>Other</th>\n",
       "      <td>1225</td>\n",
       "    </tr>\n",
       "    <tr>\n",
       "      <th>Print media</th>\n",
       "      <td>841</td>\n",
       "    </tr>\n",
       "  </tbody>\n",
       "</table>\n",
       "</div>"
      ],
      "text/plain": [
       "                    Respondent_ID\n",
       "Marketing_channels               \n",
       "Online ads                   4020\n",
       "TV commercials               2688\n",
       "Outdoor billboards           1226\n",
       "Other                        1225\n",
       "Print media                   841"
      ]
     },
     "execution_count": 29,
     "metadata": {},
     "output_type": "execute_result"
    }
   ],
   "source": [
    "survey_responses_df_selected = survey_responses_df[['Respondent_ID','Marketing_channels']]\n",
    "\n",
    "respondents_df_selected = respondents_df[['Respondent_ID']]\n",
    "\n",
    "joined_df = pd.merge(respondents_df_selected, survey_responses_df_selected, on='Respondent_ID', how='inner')\n",
    "joined_df.groupby(by=['Marketing_channels']).count().sort_values(by='Respondent_ID',ascending=False)"
   ]
  },
  {
   "cell_type": "markdown",
   "id": "b33a505f",
   "metadata": {},
   "source": [
    "<div style=\"background-color: green; color: white; padding: 10px;\">\n",
    "    <b> Answer is:</b> Online ads \n",
    "</div>"
   ]
  },
  {
   "cell_type": "markdown",
   "id": "cd65970b",
   "metadata": {},
   "source": [
    "__b. How effective are different marketing strategies and channels in reaching our customers?__"
   ]
  },
  {
   "cell_type": "raw",
   "id": "98c3eee0",
   "metadata": {},
   "source": [
    "Online ads and TV commercials are most effective marketing strategies and channels in reaching our customers."
   ]
  },
  {
   "cell_type": "markdown",
   "id": "8056160a",
   "metadata": {},
   "source": [
    "> __5. Brand Penetration__"
   ]
  },
  {
   "cell_type": "markdown",
   "id": "746aa3dd",
   "metadata": {},
   "source": [
    "__a. What do people think about our brand? (overall rating)__"
   ]
  },
  {
   "cell_type": "code",
   "execution_count": 32,
   "id": "28f40c4c",
   "metadata": {},
   "outputs": [
    {
     "data": {
      "text/html": [
       "<div>\n",
       "<style scoped>\n",
       "    .dataframe tbody tr th:only-of-type {\n",
       "        vertical-align: middle;\n",
       "    }\n",
       "\n",
       "    .dataframe tbody tr th {\n",
       "        vertical-align: top;\n",
       "    }\n",
       "\n",
       "    .dataframe thead th {\n",
       "        text-align: right;\n",
       "    }\n",
       "</style>\n",
       "<table border=\"1\" class=\"dataframe\">\n",
       "  <thead>\n",
       "    <tr style=\"text-align: right;\">\n",
       "      <th></th>\n",
       "      <th>Respondent_ID</th>\n",
       "    </tr>\n",
       "    <tr>\n",
       "      <th>Taste_experience</th>\n",
       "      <th></th>\n",
       "    </tr>\n",
       "  </thead>\n",
       "  <tbody>\n",
       "    <tr>\n",
       "      <th>3</th>\n",
       "      <td>2957</td>\n",
       "    </tr>\n",
       "    <tr>\n",
       "      <th>4</th>\n",
       "      <td>2479</td>\n",
       "    </tr>\n",
       "    <tr>\n",
       "      <th>5</th>\n",
       "      <td>1986</td>\n",
       "    </tr>\n",
       "    <tr>\n",
       "      <th>2</th>\n",
       "      <td>1524</td>\n",
       "    </tr>\n",
       "    <tr>\n",
       "      <th>1</th>\n",
       "      <td>1054</td>\n",
       "    </tr>\n",
       "  </tbody>\n",
       "</table>\n",
       "</div>"
      ],
      "text/plain": [
       "                  Respondent_ID\n",
       "Taste_experience               \n",
       "3                          2957\n",
       "4                          2479\n",
       "5                          1986\n",
       "2                          1524\n",
       "1                          1054"
      ]
     },
     "execution_count": 32,
     "metadata": {},
     "output_type": "execute_result"
    }
   ],
   "source": [
    "survey_responses_df_selected = survey_responses_df[['Respondent_ID','Taste_experience']]\n",
    "\n",
    "respondents_df_selected = respondents_df[['Respondent_ID']]\n",
    "\n",
    "joined_df = pd.merge(respondents_df_selected, survey_responses_df_selected, on='Respondent_ID', how='inner')\n",
    "joined_df.groupby(by=['Taste_experience']).count().sort_values(by='Respondent_ID',ascending=False)"
   ]
  },
  {
   "cell_type": "markdown",
   "id": "158b61e1",
   "metadata": {},
   "source": [
    "<div style=\"background-color: green; color: white; padding: 10px;\">\n",
    "    <b> Answer is:</b> Most people have rated our brand as 3 (Average)\n",
    "</div>"
   ]
  },
  {
   "cell_type": "markdown",
   "id": "ae869ea3",
   "metadata": {},
   "source": [
    "__b. Which cities do we need to focus more on?__"
   ]
  },
  {
   "cell_type": "code",
   "execution_count": 62,
   "id": "03dfc320",
   "metadata": {},
   "outputs": [
    {
     "data": {
      "text/html": [
       "<div>\n",
       "<style scoped>\n",
       "    .dataframe tbody tr th:only-of-type {\n",
       "        vertical-align: middle;\n",
       "    }\n",
       "\n",
       "    .dataframe tbody tr th {\n",
       "        vertical-align: top;\n",
       "    }\n",
       "\n",
       "    .dataframe thead th {\n",
       "        text-align: right;\n",
       "    }\n",
       "</style>\n",
       "<table border=\"1\" class=\"dataframe\">\n",
       "  <thead>\n",
       "    <tr style=\"text-align: right;\">\n",
       "      <th></th>\n",
       "      <th>Respondent_ID</th>\n",
       "    </tr>\n",
       "    <tr>\n",
       "      <th>City</th>\n",
       "      <th></th>\n",
       "    </tr>\n",
       "  </thead>\n",
       "  <tbody>\n",
       "    <tr>\n",
       "      <th>Bangalore</th>\n",
       "      <td>1670</td>\n",
       "    </tr>\n",
       "    <tr>\n",
       "      <th>Hyderabad</th>\n",
       "      <td>1105</td>\n",
       "    </tr>\n",
       "    <tr>\n",
       "      <th>Mumbai</th>\n",
       "      <td>611</td>\n",
       "    </tr>\n",
       "    <tr>\n",
       "      <th>Chennai</th>\n",
       "      <td>565</td>\n",
       "    </tr>\n",
       "    <tr>\n",
       "      <th>Pune</th>\n",
       "      <td>529</td>\n",
       "    </tr>\n",
       "    <tr>\n",
       "      <th>Kolkata</th>\n",
       "      <td>356</td>\n",
       "    </tr>\n",
       "    <tr>\n",
       "      <th>Ahmedabad</th>\n",
       "      <td>249</td>\n",
       "    </tr>\n",
       "    <tr>\n",
       "      <th>Jaipur</th>\n",
       "      <td>216</td>\n",
       "    </tr>\n",
       "    <tr>\n",
       "      <th>Delhi</th>\n",
       "      <td>162</td>\n",
       "    </tr>\n",
       "    <tr>\n",
       "      <th>Lucknow</th>\n",
       "      <td>90</td>\n",
       "    </tr>\n",
       "  </tbody>\n",
       "</table>\n",
       "</div>"
      ],
      "text/plain": [
       "           Respondent_ID\n",
       "City                    \n",
       "Bangalore           1670\n",
       "Hyderabad           1105\n",
       "Mumbai               611\n",
       "Chennai              565\n",
       "Pune                 529\n",
       "Kolkata              356\n",
       "Ahmedabad            249\n",
       "Jaipur               216\n",
       "Delhi                162\n",
       "Lucknow               90"
      ]
     },
     "execution_count": 62,
     "metadata": {},
     "output_type": "execute_result"
    }
   ],
   "source": [
    "cities_df_selected = cities_df[['City_ID','City']]\n",
    "respondents_df_selected = respondents_df[['Respondent_ID','City_ID']]\n",
    "\n",
    "survey_responses_df_new = survey_responses_df[survey_responses_df['Heard_before'] == 'No']\n",
    "survey_responses_df_selected = survey_responses_df_new[['Respondent_ID','Heard_before']]\n",
    "\n",
    "joined_df = pd.merge(respondents_df_selected, cities_df_selected, on='City_ID', how='inner')\n",
    "joined_df1 = pd.merge(survey_responses_df_selected, joined_df, on='Respondent_ID', how='inner')\n",
    "\n",
    "joined_df1_selected = joined_df1[['Respondent_ID','City']]\n",
    "\n",
    "joined_df1_selected.groupby(by=['City']).count().sort_values(by='Respondent_ID',ascending=False)"
   ]
  },
  {
   "cell_type": "markdown",
   "id": "a2ba805f",
   "metadata": {},
   "source": [
    "> This question can be approached in many ways, like: the cities to focus on could be the cities where rating is 1 or 2. Also, the cities where brand perception is negative. "
   ]
  },
  {
   "cell_type": "markdown",
   "id": "615c4ebc",
   "metadata": {},
   "source": [
    "<div style=\"background-color: green; color: white; padding: 10px;\">\n",
    "    <b> Answer is:</b> The top 3 cities where respondents haven't heard of our brand before are - Bangalore, Hyderabad and Mumbai.\n",
    "</div>"
   ]
  },
  {
   "cell_type": "markdown",
   "id": "81708bde",
   "metadata": {},
   "source": [
    "> __6. Purchase Behavior__"
   ]
  },
  {
   "cell_type": "markdown",
   "id": "77bb8f0f",
   "metadata": {},
   "source": [
    "__a. Where do respondents prefer to purchase energy drinks?__"
   ]
  },
  {
   "cell_type": "code",
   "execution_count": 35,
   "id": "657c3eba",
   "metadata": {},
   "outputs": [
    {
     "data": {
      "text/html": [
       "<div>\n",
       "<style scoped>\n",
       "    .dataframe tbody tr th:only-of-type {\n",
       "        vertical-align: middle;\n",
       "    }\n",
       "\n",
       "    .dataframe tbody tr th {\n",
       "        vertical-align: top;\n",
       "    }\n",
       "\n",
       "    .dataframe thead th {\n",
       "        text-align: right;\n",
       "    }\n",
       "</style>\n",
       "<table border=\"1\" class=\"dataframe\">\n",
       "  <thead>\n",
       "    <tr style=\"text-align: right;\">\n",
       "      <th></th>\n",
       "      <th>Respondent_ID</th>\n",
       "    </tr>\n",
       "    <tr>\n",
       "      <th>Purchase_location</th>\n",
       "      <th></th>\n",
       "    </tr>\n",
       "  </thead>\n",
       "  <tbody>\n",
       "    <tr>\n",
       "      <th>Supermarkets</th>\n",
       "      <td>4494</td>\n",
       "    </tr>\n",
       "    <tr>\n",
       "      <th>Online retailers</th>\n",
       "      <td>2550</td>\n",
       "    </tr>\n",
       "    <tr>\n",
       "      <th>Gyms and fitness centers</th>\n",
       "      <td>1464</td>\n",
       "    </tr>\n",
       "    <tr>\n",
       "      <th>Local stores</th>\n",
       "      <td>813</td>\n",
       "    </tr>\n",
       "    <tr>\n",
       "      <th>Other</th>\n",
       "      <td>679</td>\n",
       "    </tr>\n",
       "  </tbody>\n",
       "</table>\n",
       "</div>"
      ],
      "text/plain": [
       "                          Respondent_ID\n",
       "Purchase_location                      \n",
       "Supermarkets                       4494\n",
       "Online retailers                   2550\n",
       "Gyms and fitness centers           1464\n",
       "Local stores                        813\n",
       "Other                               679"
      ]
     },
     "execution_count": 35,
     "metadata": {},
     "output_type": "execute_result"
    }
   ],
   "source": [
    "survey_responses_df_selected = survey_responses_df[['Respondent_ID','Purchase_location']]\n",
    "\n",
    "respondents_df_selected = respondents_df[['Respondent_ID']]\n",
    "\n",
    "joined_df = pd.merge(respondents_df_selected, survey_responses_df_selected, on='Respondent_ID', how='inner')\n",
    "joined_df.groupby(by=['Purchase_location']).count().sort_values(by='Respondent_ID',ascending=False)"
   ]
  },
  {
   "cell_type": "markdown",
   "id": "d88a07b6",
   "metadata": {},
   "source": [
    "<div style=\"background-color: green; color: white; padding: 10px;\">\n",
    "    <b> Answer is:</b> Supermarkets\n",
    "</div>"
   ]
  },
  {
   "cell_type": "markdown",
   "id": "674bf25a",
   "metadata": {},
   "source": [
    "__b. What are the typical consumption situations for energy drinks among respondents?__"
   ]
  },
  {
   "cell_type": "code",
   "execution_count": 36,
   "id": "1e1bc7be",
   "metadata": {},
   "outputs": [
    {
     "data": {
      "text/html": [
       "<div>\n",
       "<style scoped>\n",
       "    .dataframe tbody tr th:only-of-type {\n",
       "        vertical-align: middle;\n",
       "    }\n",
       "\n",
       "    .dataframe tbody tr th {\n",
       "        vertical-align: top;\n",
       "    }\n",
       "\n",
       "    .dataframe thead th {\n",
       "        text-align: right;\n",
       "    }\n",
       "</style>\n",
       "<table border=\"1\" class=\"dataframe\">\n",
       "  <thead>\n",
       "    <tr style=\"text-align: right;\">\n",
       "      <th></th>\n",
       "      <th>Respondent_ID</th>\n",
       "    </tr>\n",
       "    <tr>\n",
       "      <th>Typical_consumption_situations</th>\n",
       "      <th></th>\n",
       "    </tr>\n",
       "  </thead>\n",
       "  <tbody>\n",
       "    <tr>\n",
       "      <th>Sports/exercise</th>\n",
       "      <td>4494</td>\n",
       "    </tr>\n",
       "    <tr>\n",
       "      <th>Studying/working late</th>\n",
       "      <td>3231</td>\n",
       "    </tr>\n",
       "    <tr>\n",
       "      <th>Social outings/parties</th>\n",
       "      <td>1487</td>\n",
       "    </tr>\n",
       "    <tr>\n",
       "      <th>Other</th>\n",
       "      <td>491</td>\n",
       "    </tr>\n",
       "    <tr>\n",
       "      <th>Driving/commuting</th>\n",
       "      <td>297</td>\n",
       "    </tr>\n",
       "  </tbody>\n",
       "</table>\n",
       "</div>"
      ],
      "text/plain": [
       "                                Respondent_ID\n",
       "Typical_consumption_situations               \n",
       "Sports/exercise                          4494\n",
       "Studying/working late                    3231\n",
       "Social outings/parties                   1487\n",
       "Other                                     491\n",
       "Driving/commuting                         297"
      ]
     },
     "execution_count": 36,
     "metadata": {},
     "output_type": "execute_result"
    }
   ],
   "source": [
    "survey_responses_df_selected = survey_responses_df[['Respondent_ID','Typical_consumption_situations']]\n",
    "\n",
    "respondents_df_selected = respondents_df[['Respondent_ID']]\n",
    "\n",
    "joined_df = pd.merge(respondents_df_selected, survey_responses_df_selected, on='Respondent_ID', how='inner')\n",
    "joined_df.groupby(by=['Typical_consumption_situations']).count().sort_values(by='Respondent_ID',ascending=False)"
   ]
  },
  {
   "cell_type": "markdown",
   "id": "f15f2d44",
   "metadata": {},
   "source": [
    "<div style=\"background-color: green; color: white; padding: 10px;\">\n",
    "    <b> Answer is:</b> Sports/exercise\n",
    "</div>"
   ]
  },
  {
   "cell_type": "markdown",
   "id": "d35222a5",
   "metadata": {},
   "source": [
    "__c. What factors influence respondents purchase decisions, such as price range and limited edition packaging?__"
   ]
  },
  {
   "cell_type": "code",
   "execution_count": 37,
   "id": "dda7c1d7",
   "metadata": {},
   "outputs": [
    {
     "data": {
      "text/html": [
       "<div>\n",
       "<style scoped>\n",
       "    .dataframe tbody tr th:only-of-type {\n",
       "        vertical-align: middle;\n",
       "    }\n",
       "\n",
       "    .dataframe tbody tr th {\n",
       "        vertical-align: top;\n",
       "    }\n",
       "\n",
       "    .dataframe thead th {\n",
       "        text-align: right;\n",
       "    }\n",
       "</style>\n",
       "<table border=\"1\" class=\"dataframe\">\n",
       "  <thead>\n",
       "    <tr style=\"text-align: right;\">\n",
       "      <th></th>\n",
       "      <th>Respondent_ID</th>\n",
       "    </tr>\n",
       "    <tr>\n",
       "      <th>Limited_edition_packaging</th>\n",
       "      <th></th>\n",
       "    </tr>\n",
       "  </thead>\n",
       "  <tbody>\n",
       "    <tr>\n",
       "      <th>No</th>\n",
       "      <td>4023</td>\n",
       "    </tr>\n",
       "    <tr>\n",
       "      <th>Yes</th>\n",
       "      <td>3946</td>\n",
       "    </tr>\n",
       "    <tr>\n",
       "      <th>Not Sure</th>\n",
       "      <td>2031</td>\n",
       "    </tr>\n",
       "  </tbody>\n",
       "</table>\n",
       "</div>"
      ],
      "text/plain": [
       "                           Respondent_ID\n",
       "Limited_edition_packaging               \n",
       "No                                  4023\n",
       "Yes                                 3946\n",
       "Not Sure                            2031"
      ]
     },
     "execution_count": 37,
     "metadata": {},
     "output_type": "execute_result"
    }
   ],
   "source": [
    "survey_responses_df_selected = survey_responses_df[['Respondent_ID','Limited_edition_packaging']]\n",
    "\n",
    "respondents_df_selected = respondents_df[['Respondent_ID']]\n",
    "\n",
    "joined_df = pd.merge(respondents_df_selected, survey_responses_df_selected, on='Respondent_ID', how='inner')\n",
    "joined_df.groupby(by=['Limited_edition_packaging']).count().sort_values(by='Respondent_ID',ascending=False)"
   ]
  },
  {
   "cell_type": "markdown",
   "id": "53b62f1f",
   "metadata": {},
   "source": [
    "<div style=\"background-color: green; color: white; padding: 10px;\">\n",
    "    <b> Answer is:</b> We cannot make inference whether limited edition packaging is an influence or not, because the count of respondents who would prefer limited edition versus those who don't, is very small. We will require more data points to conclude it.\n",
    "</div>"
   ]
  },
  {
   "cell_type": "code",
   "execution_count": 38,
   "id": "66a52dad",
   "metadata": {},
   "outputs": [
    {
     "data": {
      "text/html": [
       "<div>\n",
       "<style scoped>\n",
       "    .dataframe tbody tr th:only-of-type {\n",
       "        vertical-align: middle;\n",
       "    }\n",
       "\n",
       "    .dataframe tbody tr th {\n",
       "        vertical-align: top;\n",
       "    }\n",
       "\n",
       "    .dataframe thead th {\n",
       "        text-align: right;\n",
       "    }\n",
       "</style>\n",
       "<table border=\"1\" class=\"dataframe\">\n",
       "  <thead>\n",
       "    <tr style=\"text-align: right;\">\n",
       "      <th></th>\n",
       "      <th>Respondent_ID</th>\n",
       "    </tr>\n",
       "    <tr>\n",
       "      <th>Price_range</th>\n",
       "      <th></th>\n",
       "    </tr>\n",
       "  </thead>\n",
       "  <tbody>\n",
       "    <tr>\n",
       "      <th>50-99</th>\n",
       "      <td>4288</td>\n",
       "    </tr>\n",
       "    <tr>\n",
       "      <th>100-150</th>\n",
       "      <td>3142</td>\n",
       "    </tr>\n",
       "    <tr>\n",
       "      <th>Above 150</th>\n",
       "      <td>1561</td>\n",
       "    </tr>\n",
       "    <tr>\n",
       "      <th>Below 50</th>\n",
       "      <td>1009</td>\n",
       "    </tr>\n",
       "  </tbody>\n",
       "</table>\n",
       "</div>"
      ],
      "text/plain": [
       "             Respondent_ID\n",
       "Price_range               \n",
       "50-99                 4288\n",
       "100-150               3142\n",
       "Above 150             1561\n",
       "Below 50              1009"
      ]
     },
     "execution_count": 38,
     "metadata": {},
     "output_type": "execute_result"
    }
   ],
   "source": [
    "survey_responses_df_selected = survey_responses_df[['Respondent_ID','Price_range']]\n",
    "\n",
    "respondents_df_selected = respondents_df[['Respondent_ID']]\n",
    "\n",
    "joined_df = pd.merge(respondents_df_selected, survey_responses_df_selected, on='Respondent_ID', how='inner')\n",
    "joined_df.groupby(by=['Price_range']).count().sort_values(by='Respondent_ID',ascending=False)"
   ]
  },
  {
   "cell_type": "markdown",
   "id": "aa669eea",
   "metadata": {},
   "source": [
    "<div style=\"background-color: green; color: white; padding: 10px;\">\n",
    "    <b> Answer is:</b> Price between 50-99 is highly preferred by most of the respondents. Thus price range has high influence on respondents purchase decisions.\n",
    "</div>"
   ]
  },
  {
   "cell_type": "markdown",
   "id": "b3c009f8",
   "metadata": {},
   "source": [
    "> __7. Product Development__"
   ]
  },
  {
   "cell_type": "markdown",
   "id": "6866f925",
   "metadata": {},
   "source": [
    "__a. Which area of business should we focus more on our product development? (Branding/taste/availability)__"
   ]
  },
  {
   "cell_type": "markdown",
   "id": "217f9d43",
   "metadata": {},
   "source": [
    "> <b>Brand reputation:</b> Based on survey, when we did competition analysis (3(b)) , we got to know that most of the people prefer other brands (Cola-Coka) over ours because of brand reputation. <br>\n",
    "__Taste:__ Our brand has average rating by respondents but if we focus on improving the taste, we can make it better and that would attract more customers buying our brand. <br>\n",
    "__Availability:__ There are some cities where we have high count of respondents who haven't heard of our brand. We can focus on upscaling our brands business there."
   ]
  }
 ],
 "metadata": {
  "kernelspec": {
   "display_name": "Python 3 (ipykernel)",
   "language": "python",
   "name": "python3"
  },
  "language_info": {
   "codemirror_mode": {
    "name": "ipython",
    "version": 3
   },
   "file_extension": ".py",
   "mimetype": "text/x-python",
   "name": "python",
   "nbconvert_exporter": "python",
   "pygments_lexer": "ipython3",
   "version": "3.9.12"
  }
 },
 "nbformat": 4,
 "nbformat_minor": 5
}
